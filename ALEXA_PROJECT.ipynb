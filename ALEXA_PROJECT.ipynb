{
 "cells": [
  {
   "cell_type": "code",
   "execution_count": 3,
   "metadata": {},
   "outputs": [],
   "source": [
    "import speech_recognition as sr\n",
    "import pyttsx3\n",
    "import pywhatkit\n",
    "import datetime\n",
    "import wikipedia\n",
    "import pyjokes"
   ]
  },
  {
   "cell_type": "code",
   "execution_count": 1,
   "metadata": {},
   "outputs": [],
   "source": [
    "import speech_recognition as sr\n",
    "import pyttsx3\n",
    "import pywhatkit\n",
    "import datetime\n",
    "import wikipedia\n",
    "import pyjokes\n",
    "import datetime\n",
    "\n",
    "\n",
    "listener = sr.Recognizer()\n",
    "engine = pyttsx3.init()\n",
    "voices = engine.getProperty('voices')\n",
    "engine.setProperty('voice',voices[10].id)\n",
    "languages=['en_US']\n",
    "def talk(text):\n",
    "    engine.say(text)\n",
    "    engine.runAndWait()\n",
    "\n",
    "def take_command() :   \n",
    "    try:\n",
    "        with sr.Microphone() as source:\n",
    "            print(\"listening.....\")\n",
    "            voice = listener.listen(source)\n",
    "            command = listener.recognize_google(voice)\n",
    "            command = command.lower()\n",
    "            if 'alexa' in command:\n",
    "                command = command.replace(\"alexa\",'')\n",
    "                print(command)\n",
    "    except:\n",
    "        pass\n",
    "    return command \n",
    "\n",
    "def run_alexa():\n",
    "    command = take_command()\n",
    "    print(command)\n",
    "    if 'play' in command:\n",
    "        song = command.replace('play','')\n",
    "        talk(\"playing\" + song)\n",
    "        pywhatkit.playonyt(song)\n",
    "        \n",
    "    elif 'time' in command:\n",
    "        time = datetime.datetime.now().strftime(\"%H:%M %p\")\n",
    "        print(time)\n",
    "        talk (\"Current time is \" + time)\n",
    "        \n",
    "    elif 'who is' in command:\n",
    "        person = command.replace('who is', '')\n",
    "        info = wikipedia.summary(person, 1)\n",
    "        print(info)\n",
    "        talk(info)\n",
    "    elif 'date' in command:\n",
    "        talk('sorry, I have a headache')\n",
    "    elif 'are you single' in command:\n",
    "        talk('I am in a relationship with wifi')\n",
    "    elif 'joke' in command:\n",
    "        talk(pyjokes.get_joke())\n",
    "        \n",
    "    elif \"send message\" in command :\n",
    "        pywhatkit.sendwhatmsg(\"+918279219943\", \"Hello from Navendra\",16, 39) \n",
    "        print(\"Successfully Sent!\")\n",
    "    elif 'how are you ' in command:\n",
    "        talk('I am good how about you')\n",
    "        \n",
    "    elif'i am good' in command:\n",
    "        talk (\"how can i do for you \")\n",
    "    \n",
    "    elif \"search\" in command :\n",
    "        person = command.replace('search' , '')\n",
    "        info = pywhatkit.search(person)\n",
    "        print(info)\n",
    "        talk(info)    \n",
    "    else:\n",
    "        talk('Please say the command again.')\n",
    "        "
   ]
  },
  {
   "cell_type": "code",
   "execution_count": 7,
   "metadata": {},
   "outputs": [
    {
     "name": "stdout",
     "output_type": "stream",
     "text": [
      "listening.....\n",
    
    }
   ],
   "source": [
    "run_alexa()"
   ]
  },
  {
   "cell_type": "code",
   "execution_count": null,
   "metadata": {},
   "outputs": [],
   "source": []
  }
 ],
 "metadata": {
  "kernelspec": {
   "display_name": "Python 3",
   "language": "python",
   "name": "python3"
  },
  "language_info": {
   "codemirror_mode": {
    "name": "ipython",
    "version": 3
   },
   "file_extension": ".py",
   "mimetype": "text/x-python",
   "name": "python",
   "nbconvert_exporter": "python",
   "pygments_lexer": "ipython3",
   "version": "3.7.6"
  }
 },
 "nbformat": 4,
 "nbformat_minor": 4
}
